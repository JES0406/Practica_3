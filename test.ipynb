{
 "cells": [
  {
   "cell_type": "code",
   "execution_count": 34,
   "metadata": {},
   "outputs": [
    {
     "name": "stderr",
     "output_type": "stream",
     "text": [
      "c:\\Users\\javie\\Desktop\\Segundo\\Discreta\\Practica_3\\dgt.py:41: DtypeWarning: Columns (6) have mixed types. Specify dtype option on import or set low_memory=False.\n",
      "  return pd.read_csv(path, encoding=\"iso-8859-1\", delimiter=\";\")\n"
     ]
    },
    {
     "name": "stdout",
     "output_type": "stream",
     "text": [
      "There are 14852 intersections in the data\n",
      "[(42912532, 448079541) (42915614, 448085628) (42916980, 448106821) ...\n",
      " (45420595, 447778041) (45423392, 447745269) (45423698, 447745333)]\n"
     ]
    }
   ],
   "source": [
    "import pandas as pd\n",
    "from dgt import process_data\n",
    "cruces, df_direcc = process_data(\"data/cruces.csv\", \"data/direcciones.csv\")\n",
    "\n",
    "# Select those intersections that have the same coordinates as the ones given\n",
    "cruces[\"coordenadas\"] = list(zip(cruces[\"Coordenada X (Guia Urbana) cm (cruce)\"], cruces[\"Coordenada Y (Guia Urbana) cm (cruce)\"]))\n",
    "coordenadas_a_tratar = cruces[\"coordenadas\"].sort_values().unique()\n",
    "\n"
   ]
  }
 ],
 "metadata": {
  "kernelspec": {
   "display_name": "Python 3",
   "language": "python",
   "name": "python3"
  },
  "language_info": {
   "codemirror_mode": {
    "name": "ipython",
    "version": 3
   },
   "file_extension": ".py",
   "mimetype": "text/x-python",
   "name": "python",
   "nbconvert_exporter": "python",
   "pygments_lexer": "ipython3",
   "version": "3.12.0"
  }
 },
 "nbformat": 4,
 "nbformat_minor": 2
}
